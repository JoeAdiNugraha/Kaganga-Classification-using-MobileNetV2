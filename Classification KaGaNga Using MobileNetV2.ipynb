{
  "cells": [
    {
      "cell_type": "markdown",
      "metadata": {
        "id": "s2eX_H9hZJHW"
      },
      "source": [
        "# **Import Essential Libraries**"
      ]
    },
    {
      "cell_type": "code",
      "execution_count": null,
      "metadata": {
        "id": "oOGBYa47tKIJ"
      },
      "outputs": [],
      "source": [
        "# Import Data Science Libraries\n",
        "import numpy as np\n",
        "import pandas as pd\n",
        "import matplotlib.pyplot as plt\n",
        "import tensorflow as tf\n",
        "from sklearn.model_selection import train_test_split\n",
        "from PIL import Image\n",
        "\n",
        "# Tensorflow Libraries\n",
        "from tensorflow import keras\n",
        "from tensorflow.keras import layers,models\n",
        "from tensorflow.keras.preprocessing.image import ImageDataGenerator\n",
        "from keras.layers import Dense, Dropout\n",
        "from tensorflow.keras.callbacks import Callback, EarlyStopping,ModelCheckpoint\n",
        "from tensorflow.keras.optimizers import Adam, SGD, Adadelta\n",
        "from tensorflow.keras.applications import MobileNetV2\n",
        "from tensorflow.keras import Model\n",
        "from tensorflow.keras.layers import Rescaling\n",
        "from tensorflow.keras.layers import Input, Flatten, Dense, Dropout\n",
        "from tensorflow.keras.models import Model\n",
        "from tensorflow.keras.layers import GlobalAveragePooling2D\n",
        "\n",
        "# System libraries\n",
        "from pathlib import Path\n",
        "import os.path\n",
        "\n",
        "# Metrics\n",
        "from sklearn.metrics import classification_report, confusion_matrix\n",
        "import itertools"
      ]
    },
    {
      "cell_type": "markdown",
      "metadata": {
        "id": "rFrC_xr2ZUvX"
      },
      "source": [
        "# **Base Model for Mobilenetv2**"
      ]
    },
    {
      "cell_type": "code",
      "execution_count": null,
      "metadata": {
        "id": "C-m24kUb10Iu"
      },
      "outputs": [],
      "source": [
        "base_model = MobileNetV2(weights='imagenet',include_top=False)\n",
        "for layer in base_model.layers:\n",
        "    layer.trainable=False\n",
        "base_model.summary()"
      ]
    },
    {
      "cell_type": "code",
      "execution_count": null,
      "metadata": {
        "id": "zr4HMYq0kH5A"
      },
      "outputs": [],
      "source": [
        "x=base_model.output\n",
        "x=GlobalAveragePooling2D()(x)\n",
        "x=Dense(128)(x)\n",
        "X=Dropout(0.25)(x)\n",
        "x=Dense(128)(x)\n",
        "preds=Dense(23 ,activation='softmax')(x) #final layer with softmax activation for N classes\n",
        "\n",
        "model=Model(inputs=base_model.input,outputs=preds) #specify the inputs and outputs\n",
        "model.summary()"
      ]
    },
    {
      "cell_type": "markdown",
      "metadata": {
        "id": "lZOSPoOGZa5c"
      },
      "source": [
        "# **Helper Function**"
      ]
    },
    {
      "cell_type": "code",
      "execution_count": null,
      "metadata": {
        "id": "RxbJx1P0r73P"
      },
      "outputs": [],
      "source": [
        "!wget https://raw.githubusercontent.com/mrdbourke/tensorflow-deep-learning/main/extras/helper_functions.py\n",
        "\n",
        "# Import series of helper functions for our notebook\n",
        "from helper_functions import create_tensorboard_callback, plot_loss_curves, unzip_data, compare_historys, walk_through_dir, pred_and_plot"
      ]
    },
    {
      "cell_type": "markdown",
      "metadata": {
        "id": "1o-gr7F5Zwod"
      },
      "source": [
        "# **Mounting to Google**"
      ]
    },
    {
      "cell_type": "code",
      "execution_count": null,
      "metadata": {
        "id": "VT-Xa3DbsmnT"
      },
      "outputs": [],
      "source": [
        "from google.colab import drive\n",
        "drive.mount('/content/drive')"
      ]
    },
    {
      "cell_type": "code",
      "execution_count": null,
      "metadata": {
        "id": "N2gB8B0yqF_G"
      },
      "outputs": [],
      "source": [
        "# Walk through each directory\n",
        "dataset = \"/content/drive/MyDrive/Colab Notebooks/Kaganga HW\"\n",
        "walk_through_dir(dataset)"
      ]
    },
    {
      "cell_type": "markdown",
      "metadata": {
        "id": "7zUhdac1Z8y0"
      },
      "source": [
        "# **Change Dataset into Dataframe**"
      ]
    },
    {
      "cell_type": "code",
      "execution_count": null,
      "metadata": {
        "id": "XW6mJCXSq6xw"
      },
      "outputs": [],
      "source": [
        "# System libraries\n",
        "from pathlib import Path\n",
        "import os.path\n",
        "import pandas as pd\n",
        "image_dir = Path(dataset)\n",
        "\n",
        "# Get filepaths and labels\n",
        "filepaths = list(image_dir.glob(r'**/*.JPG')) + list(image_dir.glob(r'**/*.jpg')) + list(image_dir.glob(r'**/*.png'))\n",
        "\n",
        "labels = list(map(lambda x: os.path.split(os.path.split(x)[0])[1], filepaths))\n",
        "\n",
        "filepaths = pd.Series(filepaths, name='Filepath').astype(str)\n",
        "labels = pd.Series(labels, name='Label')\n",
        "\n",
        "# Concatenate filepaths and labels\n",
        "image_df = pd.concat([filepaths, labels], axis=1)"
      ]
    },
    {
      "cell_type": "markdown",
      "metadata": {
        "id": "P8xba_H8aQ72"
      },
      "source": [
        "# **Separate Dataset ino Training, Testing and Validation**"
      ]
    },
    {
      "cell_type": "code",
      "execution_count": null,
      "metadata": {
        "id": "bnUgDUzsp7dh"
      },
      "outputs": [],
      "source": [
        "# Separate in train and test data\n",
        "train_df, test_df = train_test_split(image_df, test_size=0.2, shuffle=True, random_state=42)"
      ]
    },
    {
      "cell_type": "code",
      "execution_count": null,
      "metadata": {
        "id": "KgqX-xysuMHI"
      },
      "outputs": [],
      "source": [
        "val_df = train_test_split(train_df, test_size=0.2, shuffle=True, random_state=42)[1]"
      ]
    },
    {
      "cell_type": "markdown",
      "metadata": {
        "id": "4MNj6FrRag1h"
      },
      "source": [
        "# **Image data generator**"
      ]
    },
    {
      "cell_type": "code",
      "execution_count": null,
      "metadata": {
        "id": "2hnHZrWDqNYg"
      },
      "outputs": [],
      "source": [
        "train_generator = ImageDataGenerator(\n",
        "    preprocessing_function=tf.keras.applications.mobilenet_v2.preprocess_input,\n",
        "    validation_split=0.2,\n",
        "    zoom_range=0.2,\n",
        "    rotation_range=20,\n",
        "    width_shift_range=0.2,\n",
        "    height_shift_range=0.2,\n",
        "    shear_range=0.2,\n",
        ")\n",
        "\n",
        "test_generator = ImageDataGenerator(\n",
        "    preprocessing_function=tf.keras.applications.mobilenet_v2.preprocess_input\n",
        ")"
      ]
    },
    {
      "cell_type": "code",
      "execution_count": null,
      "metadata": {
        "id": "wt4_oWrzuYCC"
      },
      "outputs": [],
      "source": [
        "train_datagen = ImageDataGenerator( # create an instance of ImageDataGenerator\n",
        "    preprocessing_function=tf.keras.applications.mobilenet_v2.preprocess_input,\n",
        "    validation_split=0.2,\n",
        "    zoom_range=0.2,\n",
        "    rotation_range=20,\n",
        "    width_shift_range=0.2,\n",
        "    height_shift_range=0.2,\n",
        "    shear_range=0.2,\n",
        ")\n",
        "\n",
        "test_datagen = ImageDataGenerator( # create an instance of ImageDataGenerator\n",
        "    preprocessing_function=tf.keras.applications.mobilenet_v2.preprocess_input\n",
        ")\n",
        "\n",
        "train_dataset = train_datagen.flow_from_dataframe( # call flow_from_dataframe on the instance\n",
        "        dataframe=train_df,\n",
        "        x_col='Filepath',\n",
        "        y_col='Label',\n",
        "        target_size=(224, 224),\n",
        "        batch_size=128,\n",
        "        class_mode=\"categorical\",\n",
        "        shuffle=True)\n",
        "\n",
        "test_images = test_generator.flow_from_dataframe(\n",
        "    dataframe=test_df,\n",
        "    x_col='Filepath',\n",
        "    y_col='Label',\n",
        "    target_size=(224, 224),\n",
        "    color_mode='rgb',\n",
        "    class_mode='categorical',\n",
        "    batch_size=128,\n",
        "    shuffle=False\n",
        ")\n",
        "\n",
        "# val_df is created using train_test_split from train_df with a validation set\n",
        "val_df = train_test_split(train_df, test_size=0.2, shuffle=True, random_state=42)[1]\n",
        "\n",
        "validation_dataset = test_datagen.flow_from_dataframe( # call flow_from_dataframe on the instance\n",
        "                                                 dataframe=val_df,\n",
        "                                                 x_col='Filepath',\n",
        "                                                 y_col='Label',\n",
        "                                                 shuffle=True,\n",
        "                                                 target_size=(224, 224),\n",
        "                                                 class_mode='categorical')"
      ]
    },
    {
      "cell_type": "markdown",
      "metadata": {
        "id": "ACXdH4YZacQL"
      },
      "source": [
        "# **Training the model**"
      ]
    },
    {
      "cell_type": "code",
      "execution_count": null,
      "metadata": {
        "id": "jEJBBHzV4FxM"
      },
      "outputs": [],
      "source": [
        "checkpoint = tf.keras.callbacks.ModelCheckpoint('/content/drive/My Drive/data/MobileNetV222_save.keras', verbose=1, save_best_only=True)\n",
        "callbacks = [tf.keras.callbacks.EarlyStopping(patience=3, monitor='val_loss'),\n",
        "             tf.keras.callbacks.TensorBoard(log_dir='/content/drive/My Drive/MoobileNetV2_log'),\n",
        "             checkpoint]\n",
        "\n",
        "model.compile(loss= tf.keras.losses.CategoricalCrossentropy(),\n",
        "              optimizer=Adam(learning_rate=0.001),\n",
        "              metrics=['accuracy'])\n",
        "\n",
        "history = model.fit(\n",
        "      train_dataset,\n",
        "      callbacks=callbacks,\n",
        "      validation_data=validation_dataset,\n",
        "      epochs=10,\n",
        "      verbose=1)"
      ]
    },
    {
      "cell_type": "code",
      "execution_count": null,
      "metadata": {
        "colab": {
          "base_uri": "https://localhost:8080/"
        },
        "id": "qeCRwbJk090b",
        "outputId": "e483917d-9b6e-4a90-aa4a-6ac384d1a83c"
      },
      "outputs": [
        {
          "output_type": "stream",
          "name": "stdout",
          "text": [
            "    Test Loss: 0.07936\n",
            "Test Accuracy: 97.45%\n"
          ]
        }
      ],
      "source": [
        "results = model.evaluate(test_images, verbose=0)\n",
        "\n",
        "print(\"    Test Loss: {:.5f}\".format(results[0]))\n",
        "print(\"Test Accuracy: {:.2f}%\".format(results[1] * 100))"
      ]
    },
    {
      "cell_type": "code",
      "source": [
        "results = model.evaluate(validation_dataset, verbose=0)\n",
        "\n",
        "print(\"    Test Loss: {:.5f}\".format(results[0]))\n",
        "print(\"Test Accuracy: {:.2f}%\".format(results[1] * 100))"
      ],
      "metadata": {
        "colab": {
          "base_uri": "https://localhost:8080/"
        },
        "id": "mmKiRiN6COZ0",
        "outputId": "778e6122-d2c5-4a9e-98f3-ffe3ed7d2b5b"
      },
      "execution_count": null,
      "outputs": [
        {
          "output_type": "stream",
          "name": "stdout",
          "text": [
            "    Test Loss: 0.03657\n",
            "Test Accuracy: 98.58%\n"
          ]
        }
      ]
    },
    {
      "cell_type": "code",
      "source": [
        "results = model.evaluate(train_dataset, verbose=0)\n",
        "\n",
        "print(\"    Test Loss: {:.5f}\".format(results[0]))\n",
        "print(\"Test Accuracy: {:.2f}%\".format(results[1] * 100))"
      ],
      "metadata": {
        "colab": {
          "base_uri": "https://localhost:8080/"
        },
        "id": "k2YtAQZiCPA9",
        "outputId": "acd709ae-fcc9-4728-8cb7-8e82df50e487"
      },
      "execution_count": null,
      "outputs": [
        {
          "output_type": "stream",
          "name": "stdout",
          "text": [
            "    Test Loss: 0.09672\n",
            "Test Accuracy: 96.85%\n"
          ]
        }
      ]
    },
    {
      "cell_type": "code",
      "execution_count": null,
      "metadata": {
        "id": "FQXkkwEduj8O"
      },
      "outputs": [],
      "source": [
        "plot_loss_curves(history)"
      ]
    },
    {
      "cell_type": "code",
      "execution_count": null,
      "metadata": {
        "id": "XADHBBUFumzM"
      },
      "outputs": [],
      "source": [
        "# Predict the label of the test_images\n",
        "pred = model.predict(test_images)\n",
        "pred = np.argmax(pred,axis=1)\n",
        "\n",
        "# Map the label\n",
        "labels = (train_dataset.class_indices)\n",
        "labels = dict((v,k) for k,v in labels.items())\n",
        "pred = [labels[k] for k in pred]\n",
        "\n",
        "# Display the result\n",
        "print(f'The first 5 predictions: {pred[:5]}')"
      ]
    },
    {
      "cell_type": "code",
      "execution_count": null,
      "metadata": {
        "id": "BnDfrY-KupkR"
      },
      "outputs": [],
      "source": [
        "# Display 25 random pictures from the dataset with their labels\n",
        "random_index = np.random.randint(0, len(test_df) - 1, 50)\n",
        "fig, axes = plt.subplots(nrows=3, ncols=5, figsize=(15, 5),\n",
        "                        subplot_kw={'xticks': [], 'yticks': []})\n",
        "\n",
        "for i, ax in enumerate(axes.flat):\n",
        "    image = Image.open(test_df.Filepath.iloc[random_index[i]])\n",
        "    ax.imshow(image)\n",
        "    if test_df.Label.iloc[random_index[i]] == pred[random_index[i]]:\n",
        "      color = \"green\"\n",
        "    else:\n",
        "      color = \"red\"\n",
        "    ax.set_title(f\"True: {test_df.Label.iloc[random_index[i]]}\\nPredicted: {pred[random_index[i]]}\", color=color)\n",
        "plt.show()\n",
        "plt.tight_layout()"
      ]
    },
    {
      "cell_type": "markdown",
      "source": [
        "# **Classification Report**"
      ],
      "metadata": {
        "id": "f2u2N9u2EQeM"
      }
    },
    {
      "cell_type": "code",
      "execution_count": null,
      "metadata": {
        "id": "bNuv5a_zurlk"
      },
      "outputs": [],
      "source": [
        "y_test = list(test_df.Label)\n",
        "print(classification_report(y_test, pred))"
      ]
    },
    {
      "cell_type": "markdown",
      "source": [
        "# **Confusion Matrix**"
      ],
      "metadata": {
        "id": "mgHqmW_cELGX"
      }
    },
    {
      "cell_type": "code",
      "execution_count": null,
      "metadata": {
        "id": "oLZEb1cnvWQr"
      },
      "outputs": [],
      "source": [
        "def make_confusion_matrix(y_true, y_pred, classes=None, figsize=(15, 7), text_size=10, norm=False, savefig=False):\n",
        "\n",
        "  # Create the confustion matrix\n",
        "    cm = confusion_matrix(y_true, y_pred)\n",
        "    cm_norm = cm.astype(\"float\") / cm.sum(axis=1)[:, np.newaxis]\n",
        "    n_classes = cm.shape[0]\n",
        "\n",
        "    # Plot the figure and make it pretty\n",
        "    fig, ax = plt.subplots(figsize=figsize)\n",
        "    cax = ax.matshow(cm, cmap=plt.cm.Blues)\n",
        "    fig.colorbar(cax)\n",
        "\n",
        "    # Are there a list of classes?\n",
        "    if classes:\n",
        "        labels = classes\n",
        "    else:\n",
        "        labels = np.arange(cm.shape[0])\n",
        "\n",
        "    # Label the axes\n",
        "    ax.set(title=\"Confusion Matrix\",\n",
        "         xlabel=\"Predicted label\",\n",
        "         ylabel=\"True label\",\n",
        "         xticks=np.arange(n_classes),\n",
        "         yticks=np.arange(n_classes),\n",
        "         xticklabels=labels,\n",
        "         yticklabels=labels)\n",
        "\n",
        "    # Make x-axis labels appear on bottom\n",
        "    ax.xaxis.set_label_position(\"bottom\")\n",
        "    ax.xaxis.tick_bottom()\n",
        "    plt.xticks(rotation=90, fontsize=text_size)\n",
        "    plt.yticks(fontsize=text_size)\n",
        "\n",
        "    # Set the threshold for different colors\n",
        "    threshold = (cm.max() + cm.min()) / 2.\n",
        "\n",
        "    # Plot the text on each cell\n",
        "    for i, j in itertools.product(range(cm.shape[0]), range(cm.shape[1])):\n",
        "        if norm:\n",
        "            plt.text(j, i, f\"{cm[i, j]} ({cm_norm[i, j]*100:.1f}%)\",\n",
        "                horizontalalignment=\"center\",\n",
        "                color=\"white\" if cm[i, j] > threshold else \"black\",\n",
        "                size=text_size)\n",
        "        else:\n",
        "            plt.text(j, i, f\"{cm[i, j]}\",\n",
        "              horizontalalignment=\"center\",\n",
        "              color=\"white\" if cm[i, j] > threshold else \"black\",\n",
        "              size=text_size)\n",
        "\n",
        "  # Save the figure to the current working directory\n",
        "    if savefig:\n",
        "        fig.savefig(\"confusion_matrix.png\")"
      ]
    },
    {
      "cell_type": "code",
      "execution_count": null,
      "metadata": {
        "id": "1bVRp2aFvZzV"
      },
      "outputs": [],
      "source": [
        "make_confusion_matrix(y_test, pred, list(labels.values()))"
      ]
    },
    {
      "cell_type": "markdown",
      "source": [
        "# **Sistem Identifikasi Menggunakan Data Baru**"
      ],
      "metadata": {
        "id": "RJ0DdLkAEATu"
      }
    },
    {
      "cell_type": "code",
      "execution_count": null,
      "metadata": {
        "id": "bjbuglRxtCYV"
      },
      "outputs": [],
      "source": [
        "import cv2\n",
        "import numpy as np\n",
        "\n",
        "# Load the image using OpenCV\n",
        "image_path = '/content/drive/MyDrive/Colab Notebooks/data/aa.jpg'\n",
        "image = cv2.imread(image_path)\n",
        "\n",
        "# Preprocess the image to match the input shape expected by the model\n",
        "image = cv2.resize(image, (224, 224))\n",
        "image = np.expand_dims(image, axis=0)\n",
        "image = image / 255.\n",
        "\n",
        "# Make a prediction\n",
        "predictions = model.predict(image)\n",
        "\n",
        "# Get the predicted class label\n",
        "class_label = np.argmax(predictions, axis=1)[0]\n",
        "\n",
        "# Get the class label name\n",
        "class_names = test_images.class_indices\n",
        "class_name = [k for k, v in class_names.items() if v == class_label][0]\n",
        "\n",
        "# Tentukan ambang batas\n",
        "threshold = 0.8 # Sesuaikan nilai sesuai kebutuhan\n",
        "\n",
        "# Use the class label as an integer\n",
        "max_index = np.argmax(predictions[:, :class_label])\n",
        "\n",
        "if predictions[0, max_index] < threshold:\n",
        "    class_name = \"bukan huruf kaganga\"\n",
        "else:\n",
        "    # Cari kelas dengan probabilitas tertinggi\n",
        "    class_label = np.argmax(predictions, axis=1)[0]\n",
        "    class_name = [k for k, v in class_names.items() if v == class_label][0]\n",
        "\n",
        "# Print the predicted class label\n",
        "print(f'Huruf yang diprediksi merupakan huruf: {class_name}.')"
      ]
    },
    {
      "cell_type": "markdown",
      "source": [
        "# **Save model**\n"
      ],
      "metadata": {
        "id": "aBVygANQtzq5"
      }
    },
    {
      "cell_type": "code",
      "source": [
        "model.save('/content/drive/MyDrive/Colab Notebooks/KaGaNga_Model_HW.h5')"
      ],
      "metadata": {
        "id": "foonEV9Ct4dp"
      },
      "execution_count": null,
      "outputs": []
    }
  ],
  "metadata": {
    "accelerator": "GPU",
    "colab": {
      "provenance": []
    },
    "kernelspec": {
      "display_name": "Python 3",
      "name": "python3"
    }
  },
  "nbformat": 4,
  "nbformat_minor": 0
}