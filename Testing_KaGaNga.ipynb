{
  "nbformat": 4,
  "nbformat_minor": 0,
  "metadata": {
    "colab": {
      "provenance": []
    },
    "kernelspec": {
      "name": "python3",
      "display_name": "Python 3"
    },
    "language_info": {
      "name": "python"
    }
  },
  "cells": [
    {
      "cell_type": "code",
      "source": [
        "import tensorflow as tf\n",
        "from tensorflow.keras.preprocessing import image\n",
        "import numpy as np\n",
        "import os\n",
        "from tensorflow.keras.layers import DepthwiseConv2D # Import DepthwiseConv2D\n",
        "\n",
        "\n",
        "class CustomDepthwiseConv2D(DepthwiseConv2D):\n",
        "    def __init__(self, *args, **kwargs):\n",
        "        super().__init__(*args, **kwargs)\n",
        "\n",
        "\n",
        "\n",
        "# Definisikan path ke model yang telah disimpan\n",
        "model_path = '/content/drive/MyDrive/Colab Notebooks/KaGaNga_Model_HW.h5'\n",
        "\n",
        "# Muat model yang telah disimpan\n",
        "model = tf.keras.models.load_model(model_path, custom_objects={'CustomDepthwiseConv2D': CustomDepthwiseConv2D})\n",
        "\n",
        "# Mendapatkan urutan nama kelas berdasarkan struktur folder (jika ada)\n",
        "base_dir = '/content/drive/MyDrive/Colab Notebooks/Kaganga HW'  # Ganti dengan path folder dataset\n",
        "class_labels = sorted(os.listdir(base_dir)) if os.path.exists(base_dir) else None\n",
        "\n",
        "# Fungsi untuk memuat dan memproses citra baru\n",
        "def predict_image(img_path):\n",
        "    # Muat citra dan ubah ukuran sesuai dengan input model\n",
        "    img = image.load_img(img_path, target_size=(224, 224))\n",
        "    img_array = image.img_to_array(img)\n",
        "    img_array = np.expand_dims(img_array, axis=0)\n",
        "    img_array = img_array / 255.0\n",
        "\n",
        "    # Prediksi dengan model\n",
        "    predictions = model.predict(img_array)\n",
        "\n",
        "    # Ambil kelas yang memiliki probabilitas tertinggi\n",
        "    predicted_class_index = np.argmax(predictions, axis=1)[0]  # Get the index\n",
        "\n",
        "    # Jika class_labels tersedia, gunakan untuk mendapatkan nama label\n",
        "    predicted_label = class_labels[predicted_class_index] if class_labels else predicted_class_index\n",
        "\n",
        "    return predicted_label\n",
        "\n",
        "# Contoh penggunaan\n",
        "img_path = '/content/drive/MyDrive/Colab Notebooks/data/aa.jpg'\n",
        "predicted_label = predict_image(img_path)\n",
        "print(f'Prediksi kelas: {predicted_label}')"
      ],
      "metadata": {
        "colab": {
          "base_uri": "https://localhost:8080/"
        },
        "id": "aW5g-_cPZnHi",
        "outputId": "e5b04a93-1d7d-4d00-8caf-0e4968d64e37"
      },
      "execution_count": null,
      "outputs": [
        {
          "output_type": "stream",
          "name": "stderr",
          "text": [
            "WARNING:absl:Compiled the loaded model, but the compiled metrics have yet to be built. `model.compile_metrics` will be empty until you train or evaluate the model.\n"
          ]
        },
        {
          "output_type": "stream",
          "name": "stdout",
          "text": [
            "\u001b[1m1/1\u001b[0m \u001b[32m━━━━━━━━━━━━━━━━━━━━\u001b[0m\u001b[37m\u001b[0m \u001b[1m1s\u001b[0m 1s/step\n",
            "Prediksi kelas: Ka\n"
          ]
        }
      ]
    }
  ]
}